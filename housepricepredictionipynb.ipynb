{
  "nbformat": 4,
  "nbformat_minor": 0,
  "metadata": {
    "colab": {
      "name": "housepricepredictionipynb",
      "provenance": [],
      "authorship_tag": "ABX9TyOI42wRiQDC+iR9rhNItAzu",
      "include_colab_link": true
    },
    "kernelspec": {
      "name": "python3",
      "display_name": "Python 3"
    }
  },
  "cells": [
    {
      "cell_type": "markdown",
      "metadata": {
        "id": "view-in-github",
        "colab_type": "text"
      },
      "source": [
        "<a href=\"https://colab.research.google.com/github/sadikinisaac/housingprediction/blob/master/housepricepredictionipynb.ipynb\" target=\"_parent\"><img src=\"https://colab.research.google.com/assets/colab-badge.svg\" alt=\"Open In Colab\"/></a>"
      ]
    },
    {
      "cell_type": "code",
      "metadata": {
        "id": "SdmefK_07lxy",
        "colab_type": "code",
        "colab": {
          "base_uri": "https://localhost:8080/",
          "height": 97
        },
        "outputId": "e78347df-c32a-4527-d2cf-e13528ed8ae8"
      },
      "source": [
        "#import the dependencies\n",
        "import pandas as pd\n",
        "from keras.models import Sequential\n",
        "from keras.layers import Dense\n",
        "from sklearn.model_selection import train_test_split\n",
        "import matplotlib.pyplot as plt"
      ],
      "execution_count": 1,
      "outputs": [
        {
          "output_type": "stream",
          "text": [
            "Using TensorFlow backend.\n"
          ],
          "name": "stderr"
        },
        {
          "output_type": "display_data",
          "data": {
            "text/html": [
              "<p style=\"color: red;\">\n",
              "The default version of TensorFlow in Colab will soon switch to TensorFlow 2.x.<br>\n",
              "We recommend you <a href=\"https://www.tensorflow.org/guide/migrate\" target=\"_blank\">upgrade</a> now \n",
              "or ensure your notebook will continue to use TensorFlow 1.x via the <code>%tensorflow_version 1.x</code> magic:\n",
              "<a href=\"https://colab.research.google.com/notebooks/tensorflow_version.ipynb\" target=\"_blank\">more info</a>.</p>\n"
            ],
            "text/plain": [
              "<IPython.core.display.HTML object>"
            ]
          },
          "metadata": {
            "tags": []
          }
        }
      ]
    },
    {
      "cell_type": "code",
      "metadata": {
        "id": "hZIB-jUt7yDi",
        "colab_type": "code",
        "colab": {
          "resources": {
            "http://localhost:8080/nbextensions/google.colab/files.js": {
              "data": "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",
              "ok": true,
              "headers": [
                [
                  "content-type",
                  "application/javascript"
                ]
              ],
              "status": 200,
              "status_text": ""
            }
          },
          "base_uri": "https://localhost:8080/",
          "height": 74
        },
        "outputId": "0e926ac7-3faa-40b1-add5-1154fb3f4d81"
      },
      "source": [
        "from google.colab import files\n",
        "uploaded = files.upload()"
      ],
      "execution_count": 3,
      "outputs": [
        {
          "output_type": "display_data",
          "data": {
            "text/html": [
              "\n",
              "     <input type=\"file\" id=\"files-b1f6cc72-87b5-4fbd-82d2-d2f32a6c4a44\" name=\"files[]\" multiple disabled />\n",
              "     <output id=\"result-b1f6cc72-87b5-4fbd-82d2-d2f32a6c4a44\">\n",
              "      Upload widget is only available when the cell has been executed in the\n",
              "      current browser session. Please rerun this cell to enable.\n",
              "      </output>\n",
              "      <script src=\"/nbextensions/google.colab/files.js\"></script> "
            ],
            "text/plain": [
              "<IPython.core.display.HTML object>"
            ]
          },
          "metadata": {
            "tags": []
          }
        },
        {
          "output_type": "stream",
          "text": [
            "Saving housepricedata.csv to housepricedata.csv\n"
          ],
          "name": "stdout"
        }
      ]
    },
    {
      "cell_type": "code",
      "metadata": {
        "id": "sS1CBW1i7-hT",
        "colab_type": "code",
        "colab": {
          "base_uri": "https://localhost:8080/",
          "height": 224
        },
        "outputId": "03b9793e-d430-4024-c290-6081ca8af1b4"
      },
      "source": [
        "import io\n",
        "df = pd.read_csv(io.BytesIO(uploaded['housepricedata.csv']))\n",
        "\n",
        "df.head()"
      ],
      "execution_count": 4,
      "outputs": [
        {
          "output_type": "execute_result",
          "data": {
            "text/html": [
              "<div>\n",
              "<style scoped>\n",
              "    .dataframe tbody tr th:only-of-type {\n",
              "        vertical-align: middle;\n",
              "    }\n",
              "\n",
              "    .dataframe tbody tr th {\n",
              "        vertical-align: top;\n",
              "    }\n",
              "\n",
              "    .dataframe thead th {\n",
              "        text-align: right;\n",
              "    }\n",
              "</style>\n",
              "<table border=\"1\" class=\"dataframe\">\n",
              "  <thead>\n",
              "    <tr style=\"text-align: right;\">\n",
              "      <th></th>\n",
              "      <th>LotArea</th>\n",
              "      <th>OverallQual</th>\n",
              "      <th>OverallCond</th>\n",
              "      <th>TotalBsmtSF</th>\n",
              "      <th>FullBath</th>\n",
              "      <th>HalfBath</th>\n",
              "      <th>BedroomAbvGr</th>\n",
              "      <th>TotRmsAbvGrd</th>\n",
              "      <th>Fireplaces</th>\n",
              "      <th>GarageArea</th>\n",
              "      <th>AboveMedianPrice</th>\n",
              "    </tr>\n",
              "  </thead>\n",
              "  <tbody>\n",
              "    <tr>\n",
              "      <th>0</th>\n",
              "      <td>8450</td>\n",
              "      <td>7</td>\n",
              "      <td>5</td>\n",
              "      <td>856</td>\n",
              "      <td>2</td>\n",
              "      <td>1</td>\n",
              "      <td>3</td>\n",
              "      <td>8</td>\n",
              "      <td>0</td>\n",
              "      <td>548</td>\n",
              "      <td>1</td>\n",
              "    </tr>\n",
              "    <tr>\n",
              "      <th>1</th>\n",
              "      <td>9600</td>\n",
              "      <td>6</td>\n",
              "      <td>8</td>\n",
              "      <td>1262</td>\n",
              "      <td>2</td>\n",
              "      <td>0</td>\n",
              "      <td>3</td>\n",
              "      <td>6</td>\n",
              "      <td>1</td>\n",
              "      <td>460</td>\n",
              "      <td>1</td>\n",
              "    </tr>\n",
              "    <tr>\n",
              "      <th>2</th>\n",
              "      <td>11250</td>\n",
              "      <td>7</td>\n",
              "      <td>5</td>\n",
              "      <td>920</td>\n",
              "      <td>2</td>\n",
              "      <td>1</td>\n",
              "      <td>3</td>\n",
              "      <td>6</td>\n",
              "      <td>1</td>\n",
              "      <td>608</td>\n",
              "      <td>1</td>\n",
              "    </tr>\n",
              "    <tr>\n",
              "      <th>3</th>\n",
              "      <td>9550</td>\n",
              "      <td>7</td>\n",
              "      <td>5</td>\n",
              "      <td>756</td>\n",
              "      <td>1</td>\n",
              "      <td>0</td>\n",
              "      <td>3</td>\n",
              "      <td>7</td>\n",
              "      <td>1</td>\n",
              "      <td>642</td>\n",
              "      <td>0</td>\n",
              "    </tr>\n",
              "    <tr>\n",
              "      <th>4</th>\n",
              "      <td>14260</td>\n",
              "      <td>8</td>\n",
              "      <td>5</td>\n",
              "      <td>1145</td>\n",
              "      <td>2</td>\n",
              "      <td>1</td>\n",
              "      <td>4</td>\n",
              "      <td>9</td>\n",
              "      <td>1</td>\n",
              "      <td>836</td>\n",
              "      <td>1</td>\n",
              "    </tr>\n",
              "  </tbody>\n",
              "</table>\n",
              "</div>"
            ],
            "text/plain": [
              "   LotArea  OverallQual  OverallCond  ...  Fireplaces  GarageArea  AboveMedianPrice\n",
              "0     8450            7            5  ...           0         548                 1\n",
              "1     9600            6            8  ...           1         460                 1\n",
              "2    11250            7            5  ...           1         608                 1\n",
              "3     9550            7            5  ...           1         642                 0\n",
              "4    14260            8            5  ...           1         836                 1\n",
              "\n",
              "[5 rows x 11 columns]"
            ]
          },
          "metadata": {
            "tags": []
          },
          "execution_count": 4
        }
      ]
    },
    {
      "cell_type": "code",
      "metadata": {
        "id": "neVo2hbm7vHi",
        "colab_type": "code",
        "colab": {
          "base_uri": "https://localhost:8080/",
          "height": 136
        },
        "outputId": "ea4151b8-7a0c-43ae-fa83-83b26e750033"
      },
      "source": [
        "#Convert the data into an array\n",
        "dataset = df.values\n",
        "dataset"
      ],
      "execution_count": 5,
      "outputs": [
        {
          "output_type": "execute_result",
          "data": {
            "text/plain": [
              "array([[ 8450,     7,     5, ...,     0,   548,     1],\n",
              "       [ 9600,     6,     8, ...,     1,   460,     1],\n",
              "       [11250,     7,     5, ...,     1,   608,     1],\n",
              "       ...,\n",
              "       [ 9042,     7,     9, ...,     2,   252,     1],\n",
              "       [ 9717,     5,     6, ...,     0,   240,     0],\n",
              "       [ 9937,     5,     6, ...,     0,   276,     0]])"
            ]
          },
          "metadata": {
            "tags": []
          },
          "execution_count": 5
        }
      ]
    },
    {
      "cell_type": "code",
      "metadata": {
        "id": "pR7eKuMW8Gr6",
        "colab_type": "code",
        "colab": {}
      },
      "source": [
        "#Split the data set\n",
        "X = dataset[:,0:10]\n",
        "Y = dataset[:,10]"
      ],
      "execution_count": 0,
      "outputs": []
    },
    {
      "cell_type": "code",
      "metadata": {
        "id": "GHyevPLK8K9h",
        "colab_type": "code",
        "colab": {
          "base_uri": "https://localhost:8080/",
          "height": 238
        },
        "outputId": "db67a66b-8c1c-4b48-d554-557888e7b006"
      },
      "source": [
        "#the min-max scaler method scales the dataset so that all the input features lie between 0 and 1 inclusive\n",
        "from sklearn import preprocessing\n",
        "min_max_scaler = preprocessing.MinMaxScaler()\n",
        "X_scale = min_max_scaler.fit_transform(X)\n",
        "X_scale"
      ],
      "execution_count": 7,
      "outputs": [
        {
          "output_type": "execute_result",
          "data": {
            "text/plain": [
              "array([[0.0334198 , 0.66666667, 0.5       , ..., 0.5       , 0.        ,\n",
              "        0.3864598 ],\n",
              "       [0.03879502, 0.55555556, 0.875     , ..., 0.33333333, 0.33333333,\n",
              "        0.32440056],\n",
              "       [0.04650728, 0.66666667, 0.5       , ..., 0.33333333, 0.33333333,\n",
              "        0.42877292],\n",
              "       ...,\n",
              "       [0.03618687, 0.66666667, 1.        , ..., 0.58333333, 0.66666667,\n",
              "        0.17771509],\n",
              "       [0.03934189, 0.44444444, 0.625     , ..., 0.25      , 0.        ,\n",
              "        0.16925247],\n",
              "       [0.04037019, 0.44444444, 0.625     , ..., 0.33333333, 0.        ,\n",
              "        0.19464034]])"
            ]
          },
          "metadata": {
            "tags": []
          },
          "execution_count": 7
        }
      ]
    },
    {
      "cell_type": "code",
      "metadata": {
        "id": "labCtdrL8NpI",
        "colab_type": "code",
        "colab": {
          "base_uri": "https://localhost:8080/",
          "height": 34
        },
        "outputId": "4546d81e-c957-4fd6-da27-9e806a56632f"
      },
      "source": [
        "#Split the data into 80% training and 20% (testing (10%) and validation (10%))\n",
        "from sklearn.model_selection import train_test_split\n",
        "X_train, X_val_and_test, Y_train, Y_val_and_test = train_test_split(X_scale, Y, test_size=0.2)\n",
        "X_val, X_test, Y_val, Y_test = train_test_split(X_val_and_test, Y_val_and_test, test_size=0.5)\n",
        "\n",
        "#the training set has 1022 data points while the validation and test set has 219 data points each. The X variables have 10 input features, while the Y variables only has one feature to predict.\n",
        "print(X_train.shape, X_val.shape, X_test.shape, Y_train.shape, Y_val.shape, Y_test.shape)"
      ],
      "execution_count": 8,
      "outputs": [
        {
          "output_type": "stream",
          "text": [
            "(1168, 10) (146, 10) (146, 10) (1168,) (146,) (146,)\n"
          ],
          "name": "stdout"
        }
      ]
    },
    {
      "cell_type": "code",
      "metadata": {
        "id": "LYtSqiVg8Q4c",
        "colab_type": "code",
        "colab": {
          "base_uri": "https://localhost:8080/",
          "height": 139
        },
        "outputId": "036ae543-efff-45f2-c6ca-cb2bae2f65ed"
      },
      "source": [
        "#Build the model and architecture of the deep neural network\n",
        "from keras.models import Sequential\n",
        "from keras.layers import Dense\n",
        "\n",
        "# The models architechture 4 layers, 3 with 32 neurons and activation function = relu function, \n",
        "# the last layer has 1 neuron with an activation function = sigmoid function which returns a value btwn 0 and 1\n",
        "# The input shape/ input_dim = 10 the number of features in the data set\n",
        "model = Sequential([\n",
        "    Dense(32, activation='relu', input_shape=(10,)),\n",
        "    Dense(32, activation='relu'),\n",
        "    Dense(32, activation='relu'),\n",
        "    Dense(1, activation='sigmoid')\n",
        "])"
      ],
      "execution_count": 9,
      "outputs": [
        {
          "output_type": "stream",
          "text": [
            "WARNING:tensorflow:From /usr/local/lib/python3.6/dist-packages/keras/backend/tensorflow_backend.py:66: The name tf.get_default_graph is deprecated. Please use tf.compat.v1.get_default_graph instead.\n",
            "\n",
            "WARNING:tensorflow:From /usr/local/lib/python3.6/dist-packages/keras/backend/tensorflow_backend.py:541: The name tf.placeholder is deprecated. Please use tf.compat.v1.placeholder instead.\n",
            "\n",
            "WARNING:tensorflow:From /usr/local/lib/python3.6/dist-packages/keras/backend/tensorflow_backend.py:4432: The name tf.random_uniform is deprecated. Please use tf.random.uniform instead.\n",
            "\n"
          ],
          "name": "stdout"
        }
      ]
    },
    {
      "cell_type": "code",
      "metadata": {
        "id": "PyfGsJsi8UOI",
        "colab_type": "code",
        "colab": {
          "base_uri": "https://localhost:8080/",
          "height": 156
        },
        "outputId": "b7b99dea-8ded-4bb3-ac95-28f35396c848"
      },
      "source": [
        "# loss measuers how well the model did on training , and then tries to improve on it using the optimizer\n",
        "model.compile(optimizer='sgd',\n",
        "              loss='binary_crossentropy',\n",
        "              metrics=['accuracy'])\n"
      ],
      "execution_count": 10,
      "outputs": [
        {
          "output_type": "stream",
          "text": [
            "WARNING:tensorflow:From /usr/local/lib/python3.6/dist-packages/keras/optimizers.py:793: The name tf.train.Optimizer is deprecated. Please use tf.compat.v1.train.Optimizer instead.\n",
            "\n",
            "WARNING:tensorflow:From /usr/local/lib/python3.6/dist-packages/keras/backend/tensorflow_backend.py:3657: The name tf.log is deprecated. Please use tf.math.log instead.\n",
            "\n",
            "WARNING:tensorflow:From /usr/local/lib/python3.6/dist-packages/tensorflow_core/python/ops/nn_impl.py:183: where (from tensorflow.python.ops.array_ops) is deprecated and will be removed in a future version.\n",
            "Instructions for updating:\n",
            "Use tf.where in 2.0, which has the same broadcast rule as np.where\n"
          ],
          "name": "stdout"
        }
      ]
    },
    {
      "cell_type": "code",
      "metadata": {
        "id": "6ESKQGE88Ylx",
        "colab_type": "code",
        "colab": {
          "base_uri": "https://localhost:8080/",
          "height": 1000
        },
        "outputId": "81925637-17e4-4dd4-fd5e-5a5342f5e3f6"
      },
      "source": [
        "#Train the model\n",
        "hist = model.fit(X_train, Y_train,\n",
        "          batch_size=32, epochs=100,\n",
        "          validation_data=(X_val, Y_val))"
      ],
      "execution_count": 11,
      "outputs": [
        {
          "output_type": "stream",
          "text": [
            "WARNING:tensorflow:From /usr/local/lib/python3.6/dist-packages/keras/backend/tensorflow_backend.py:1033: The name tf.assign_add is deprecated. Please use tf.compat.v1.assign_add instead.\n",
            "\n",
            "WARNING:tensorflow:From /usr/local/lib/python3.6/dist-packages/keras/backend/tensorflow_backend.py:1020: The name tf.assign is deprecated. Please use tf.compat.v1.assign instead.\n",
            "\n",
            "WARNING:tensorflow:From /usr/local/lib/python3.6/dist-packages/keras/backend/tensorflow_backend.py:3005: The name tf.Session is deprecated. Please use tf.compat.v1.Session instead.\n",
            "\n",
            "Train on 1168 samples, validate on 146 samples\n",
            "Epoch 1/100\n",
            "WARNING:tensorflow:From /usr/local/lib/python3.6/dist-packages/keras/backend/tensorflow_backend.py:190: The name tf.get_default_session is deprecated. Please use tf.compat.v1.get_default_session instead.\n",
            "\n",
            "WARNING:tensorflow:From /usr/local/lib/python3.6/dist-packages/keras/backend/tensorflow_backend.py:197: The name tf.ConfigProto is deprecated. Please use tf.compat.v1.ConfigProto instead.\n",
            "\n",
            "WARNING:tensorflow:From /usr/local/lib/python3.6/dist-packages/keras/backend/tensorflow_backend.py:207: The name tf.global_variables is deprecated. Please use tf.compat.v1.global_variables instead.\n",
            "\n",
            "WARNING:tensorflow:From /usr/local/lib/python3.6/dist-packages/keras/backend/tensorflow_backend.py:216: The name tf.is_variable_initialized is deprecated. Please use tf.compat.v1.is_variable_initialized instead.\n",
            "\n",
            "WARNING:tensorflow:From /usr/local/lib/python3.6/dist-packages/keras/backend/tensorflow_backend.py:223: The name tf.variables_initializer is deprecated. Please use tf.compat.v1.variables_initializer instead.\n",
            "\n",
            "1168/1168 [==============================] - 1s 555us/step - loss: 0.6808 - acc: 0.5009 - val_loss: 0.6804 - val_acc: 0.5000\n",
            "Epoch 2/100\n",
            "1168/1168 [==============================] - 0s 45us/step - loss: 0.6754 - acc: 0.5034 - val_loss: 0.6762 - val_acc: 0.5068\n",
            "Epoch 3/100\n",
            "1168/1168 [==============================] - 0s 42us/step - loss: 0.6706 - acc: 0.5171 - val_loss: 0.6717 - val_acc: 0.5274\n",
            "Epoch 4/100\n",
            "1168/1168 [==============================] - 0s 46us/step - loss: 0.6657 - acc: 0.5514 - val_loss: 0.6670 - val_acc: 0.5616\n",
            "Epoch 5/100\n",
            "1168/1168 [==============================] - 0s 44us/step - loss: 0.6605 - acc: 0.6353 - val_loss: 0.6623 - val_acc: 0.6370\n",
            "Epoch 6/100\n",
            "1168/1168 [==============================] - 0s 44us/step - loss: 0.6550 - acc: 0.6978 - val_loss: 0.6571 - val_acc: 0.6781\n",
            "Epoch 7/100\n",
            "1168/1168 [==============================] - 0s 41us/step - loss: 0.6491 - acc: 0.7312 - val_loss: 0.6512 - val_acc: 0.7192\n",
            "Epoch 8/100\n",
            "1168/1168 [==============================] - 0s 41us/step - loss: 0.6427 - acc: 0.7354 - val_loss: 0.6450 - val_acc: 0.7329\n",
            "Epoch 9/100\n",
            "1168/1168 [==============================] - 0s 47us/step - loss: 0.6361 - acc: 0.7731 - val_loss: 0.6387 - val_acc: 0.7329\n",
            "Epoch 10/100\n",
            "1168/1168 [==============================] - 0s 46us/step - loss: 0.6290 - acc: 0.7783 - val_loss: 0.6322 - val_acc: 0.7397\n",
            "Epoch 11/100\n",
            "1168/1168 [==============================] - 0s 46us/step - loss: 0.6216 - acc: 0.7800 - val_loss: 0.6252 - val_acc: 0.7534\n",
            "Epoch 12/100\n",
            "1168/1168 [==============================] - 0s 45us/step - loss: 0.6136 - acc: 0.7920 - val_loss: 0.6176 - val_acc: 0.7603\n",
            "Epoch 13/100\n",
            "1168/1168 [==============================] - 0s 40us/step - loss: 0.6048 - acc: 0.8031 - val_loss: 0.6093 - val_acc: 0.7808\n",
            "Epoch 14/100\n",
            "1168/1168 [==============================] - 0s 44us/step - loss: 0.5954 - acc: 0.8151 - val_loss: 0.6006 - val_acc: 0.7740\n",
            "Epoch 15/100\n",
            "1168/1168 [==============================] - 0s 48us/step - loss: 0.5851 - acc: 0.8142 - val_loss: 0.5910 - val_acc: 0.8151\n",
            "Epoch 16/100\n",
            "1168/1168 [==============================] - 0s 45us/step - loss: 0.5739 - acc: 0.8228 - val_loss: 0.5809 - val_acc: 0.8219\n",
            "Epoch 17/100\n",
            "1168/1168 [==============================] - 0s 46us/step - loss: 0.5620 - acc: 0.8288 - val_loss: 0.5700 - val_acc: 0.8425\n",
            "Epoch 18/100\n",
            "1168/1168 [==============================] - 0s 43us/step - loss: 0.5493 - acc: 0.8322 - val_loss: 0.5584 - val_acc: 0.8425\n",
            "Epoch 19/100\n",
            "1168/1168 [==============================] - 0s 42us/step - loss: 0.5358 - acc: 0.8330 - val_loss: 0.5465 - val_acc: 0.8425\n",
            "Epoch 20/100\n",
            "1168/1168 [==============================] - 0s 47us/step - loss: 0.5220 - acc: 0.8348 - val_loss: 0.5344 - val_acc: 0.8288\n",
            "Epoch 21/100\n",
            "1168/1168 [==============================] - 0s 40us/step - loss: 0.5083 - acc: 0.8365 - val_loss: 0.5215 - val_acc: 0.8493\n",
            "Epoch 22/100\n",
            "1168/1168 [==============================] - 0s 42us/step - loss: 0.4939 - acc: 0.8399 - val_loss: 0.5091 - val_acc: 0.8562\n",
            "Epoch 23/100\n",
            "1168/1168 [==============================] - 0s 44us/step - loss: 0.4800 - acc: 0.8442 - val_loss: 0.4970 - val_acc: 0.8630\n",
            "Epoch 24/100\n",
            "1168/1168 [==============================] - 0s 41us/step - loss: 0.4664 - acc: 0.8476 - val_loss: 0.4856 - val_acc: 0.8699\n",
            "Epoch 25/100\n",
            "1168/1168 [==============================] - 0s 42us/step - loss: 0.4532 - acc: 0.8510 - val_loss: 0.4758 - val_acc: 0.8630\n",
            "Epoch 26/100\n",
            "1168/1168 [==============================] - 0s 45us/step - loss: 0.4409 - acc: 0.8510 - val_loss: 0.4648 - val_acc: 0.8699\n",
            "Epoch 27/100\n",
            "1168/1168 [==============================] - 0s 45us/step - loss: 0.4284 - acc: 0.8570 - val_loss: 0.4551 - val_acc: 0.8493\n",
            "Epoch 28/100\n",
            "1168/1168 [==============================] - 0s 43us/step - loss: 0.4168 - acc: 0.8630 - val_loss: 0.4458 - val_acc: 0.8630\n",
            "Epoch 29/100\n",
            "1168/1168 [==============================] - 0s 43us/step - loss: 0.4059 - acc: 0.8587 - val_loss: 0.4371 - val_acc: 0.8493\n",
            "Epoch 30/100\n",
            "1168/1168 [==============================] - 0s 43us/step - loss: 0.3953 - acc: 0.8647 - val_loss: 0.4287 - val_acc: 0.8493\n",
            "Epoch 31/100\n",
            "1168/1168 [==============================] - 0s 45us/step - loss: 0.3862 - acc: 0.8613 - val_loss: 0.4212 - val_acc: 0.8493\n",
            "Epoch 32/100\n",
            "1168/1168 [==============================] - 0s 45us/step - loss: 0.3770 - acc: 0.8682 - val_loss: 0.4144 - val_acc: 0.8562\n",
            "Epoch 33/100\n",
            "1168/1168 [==============================] - 0s 43us/step - loss: 0.3682 - acc: 0.8716 - val_loss: 0.4087 - val_acc: 0.8493\n",
            "Epoch 34/100\n",
            "1168/1168 [==============================] - 0s 42us/step - loss: 0.3614 - acc: 0.8682 - val_loss: 0.4021 - val_acc: 0.8562\n",
            "Epoch 35/100\n",
            "1168/1168 [==============================] - 0s 43us/step - loss: 0.3533 - acc: 0.8724 - val_loss: 0.3968 - val_acc: 0.8493\n",
            "Epoch 36/100\n",
            "1168/1168 [==============================] - 0s 44us/step - loss: 0.3467 - acc: 0.8733 - val_loss: 0.3918 - val_acc: 0.8493\n",
            "Epoch 37/100\n",
            "1168/1168 [==============================] - 0s 46us/step - loss: 0.3391 - acc: 0.8682 - val_loss: 0.3910 - val_acc: 0.8699\n",
            "Epoch 38/100\n",
            "1168/1168 [==============================] - 0s 46us/step - loss: 0.3352 - acc: 0.8724 - val_loss: 0.3831 - val_acc: 0.8493\n",
            "Epoch 39/100\n",
            "1168/1168 [==============================] - 0s 45us/step - loss: 0.3283 - acc: 0.8741 - val_loss: 0.3793 - val_acc: 0.8493\n",
            "Epoch 40/100\n",
            "1168/1168 [==============================] - 0s 45us/step - loss: 0.3241 - acc: 0.8724 - val_loss: 0.3759 - val_acc: 0.8493\n",
            "Epoch 41/100\n",
            "1168/1168 [==============================] - 0s 45us/step - loss: 0.3195 - acc: 0.8776 - val_loss: 0.3754 - val_acc: 0.8699\n",
            "Epoch 42/100\n",
            "1168/1168 [==============================] - 0s 45us/step - loss: 0.3157 - acc: 0.8776 - val_loss: 0.3702 - val_acc: 0.8425\n",
            "Epoch 43/100\n",
            "1168/1168 [==============================] - 0s 40us/step - loss: 0.3105 - acc: 0.8750 - val_loss: 0.3677 - val_acc: 0.8699\n",
            "Epoch 44/100\n",
            "1168/1168 [==============================] - 0s 45us/step - loss: 0.3064 - acc: 0.8767 - val_loss: 0.3663 - val_acc: 0.8425\n",
            "Epoch 45/100\n",
            "1168/1168 [==============================] - 0s 41us/step - loss: 0.3024 - acc: 0.8793 - val_loss: 0.3656 - val_acc: 0.8630\n",
            "Epoch 46/100\n",
            "1168/1168 [==============================] - 0s 42us/step - loss: 0.3014 - acc: 0.8844 - val_loss: 0.3610 - val_acc: 0.8699\n",
            "Epoch 47/100\n",
            "1168/1168 [==============================] - 0s 44us/step - loss: 0.2970 - acc: 0.8810 - val_loss: 0.3589 - val_acc: 0.8699\n",
            "Epoch 48/100\n",
            "1168/1168 [==============================] - 0s 43us/step - loss: 0.2948 - acc: 0.8793 - val_loss: 0.3597 - val_acc: 0.8630\n",
            "Epoch 49/100\n",
            "1168/1168 [==============================] - 0s 45us/step - loss: 0.2934 - acc: 0.8836 - val_loss: 0.3558 - val_acc: 0.8630\n",
            "Epoch 50/100\n",
            "1168/1168 [==============================] - 0s 43us/step - loss: 0.2900 - acc: 0.8844 - val_loss: 0.3534 - val_acc: 0.8699\n",
            "Epoch 51/100\n",
            "1168/1168 [==============================] - 0s 47us/step - loss: 0.2891 - acc: 0.8887 - val_loss: 0.3533 - val_acc: 0.8699\n",
            "Epoch 52/100\n",
            "1168/1168 [==============================] - 0s 46us/step - loss: 0.2848 - acc: 0.8836 - val_loss: 0.3506 - val_acc: 0.8767\n",
            "Epoch 53/100\n",
            "1168/1168 [==============================] - 0s 43us/step - loss: 0.2843 - acc: 0.8827 - val_loss: 0.3494 - val_acc: 0.8562\n",
            "Epoch 54/100\n",
            "1168/1168 [==============================] - 0s 43us/step - loss: 0.2812 - acc: 0.8853 - val_loss: 0.3502 - val_acc: 0.8562\n",
            "Epoch 55/100\n",
            "1168/1168 [==============================] - 0s 47us/step - loss: 0.2801 - acc: 0.8870 - val_loss: 0.3571 - val_acc: 0.8767\n",
            "Epoch 56/100\n",
            "1168/1168 [==============================] - 0s 44us/step - loss: 0.2789 - acc: 0.8938 - val_loss: 0.3471 - val_acc: 0.8562\n",
            "Epoch 57/100\n",
            "1168/1168 [==============================] - 0s 44us/step - loss: 0.2765 - acc: 0.8904 - val_loss: 0.3458 - val_acc: 0.8562\n",
            "Epoch 58/100\n",
            "1168/1168 [==============================] - 0s 46us/step - loss: 0.2757 - acc: 0.8913 - val_loss: 0.3460 - val_acc: 0.8699\n",
            "Epoch 59/100\n",
            "1168/1168 [==============================] - 0s 44us/step - loss: 0.2742 - acc: 0.8887 - val_loss: 0.3462 - val_acc: 0.8767\n",
            "Epoch 60/100\n",
            "1168/1168 [==============================] - 0s 49us/step - loss: 0.2747 - acc: 0.8896 - val_loss: 0.3427 - val_acc: 0.8630\n",
            "Epoch 61/100\n",
            "1168/1168 [==============================] - 0s 42us/step - loss: 0.2717 - acc: 0.8921 - val_loss: 0.3419 - val_acc: 0.8630\n",
            "Epoch 62/100\n",
            "1168/1168 [==============================] - 0s 43us/step - loss: 0.2708 - acc: 0.8904 - val_loss: 0.3412 - val_acc: 0.8699\n",
            "Epoch 63/100\n",
            "1168/1168 [==============================] - 0s 45us/step - loss: 0.2688 - acc: 0.8921 - val_loss: 0.3426 - val_acc: 0.8699\n",
            "Epoch 64/100\n",
            "1168/1168 [==============================] - 0s 60us/step - loss: 0.2690 - acc: 0.8921 - val_loss: 0.3396 - val_acc: 0.8630\n",
            "Epoch 65/100\n",
            "1168/1168 [==============================] - 0s 45us/step - loss: 0.2675 - acc: 0.8938 - val_loss: 0.3394 - val_acc: 0.8699\n",
            "Epoch 66/100\n",
            "1168/1168 [==============================] - 0s 44us/step - loss: 0.2677 - acc: 0.8913 - val_loss: 0.3394 - val_acc: 0.8562\n",
            "Epoch 67/100\n",
            "1168/1168 [==============================] - 0s 43us/step - loss: 0.2657 - acc: 0.8930 - val_loss: 0.3382 - val_acc: 0.8836\n",
            "Epoch 68/100\n",
            "1168/1168 [==============================] - 0s 42us/step - loss: 0.2646 - acc: 0.8947 - val_loss: 0.3390 - val_acc: 0.8767\n",
            "Epoch 69/100\n",
            "1168/1168 [==============================] - 0s 42us/step - loss: 0.2638 - acc: 0.8938 - val_loss: 0.3396 - val_acc: 0.8699\n",
            "Epoch 70/100\n",
            "1168/1168 [==============================] - 0s 42us/step - loss: 0.2631 - acc: 0.8921 - val_loss: 0.3359 - val_acc: 0.8836\n",
            "Epoch 71/100\n",
            "1168/1168 [==============================] - 0s 42us/step - loss: 0.2636 - acc: 0.8921 - val_loss: 0.3374 - val_acc: 0.8767\n",
            "Epoch 72/100\n",
            "1168/1168 [==============================] - 0s 40us/step - loss: 0.2610 - acc: 0.8964 - val_loss: 0.3349 - val_acc: 0.8699\n",
            "Epoch 73/100\n",
            "1168/1168 [==============================] - 0s 54us/step - loss: 0.2597 - acc: 0.8938 - val_loss: 0.3412 - val_acc: 0.8836\n",
            "Epoch 74/100\n",
            "1168/1168 [==============================] - 0s 44us/step - loss: 0.2609 - acc: 0.8955 - val_loss: 0.3350 - val_acc: 0.8836\n",
            "Epoch 75/100\n",
            "1168/1168 [==============================] - 0s 41us/step - loss: 0.2597 - acc: 0.8955 - val_loss: 0.3350 - val_acc: 0.8699\n",
            "Epoch 76/100\n",
            "1168/1168 [==============================] - 0s 43us/step - loss: 0.2594 - acc: 0.8921 - val_loss: 0.3334 - val_acc: 0.8836\n",
            "Epoch 77/100\n",
            "1168/1168 [==============================] - 0s 45us/step - loss: 0.2587 - acc: 0.8913 - val_loss: 0.3329 - val_acc: 0.8836\n",
            "Epoch 78/100\n",
            "1168/1168 [==============================] - 0s 46us/step - loss: 0.2586 - acc: 0.8955 - val_loss: 0.3322 - val_acc: 0.8836\n",
            "Epoch 79/100\n",
            "1168/1168 [==============================] - 0s 43us/step - loss: 0.2563 - acc: 0.8981 - val_loss: 0.3352 - val_acc: 0.8630\n",
            "Epoch 80/100\n",
            "1168/1168 [==============================] - 0s 43us/step - loss: 0.2571 - acc: 0.8973 - val_loss: 0.3314 - val_acc: 0.8836\n",
            "Epoch 81/100\n",
            "1168/1168 [==============================] - 0s 43us/step - loss: 0.2550 - acc: 0.8981 - val_loss: 0.3454 - val_acc: 0.8562\n",
            "Epoch 82/100\n",
            "1168/1168 [==============================] - 0s 44us/step - loss: 0.2548 - acc: 0.8973 - val_loss: 0.3304 - val_acc: 0.8836\n",
            "Epoch 83/100\n",
            "1168/1168 [==============================] - 0s 43us/step - loss: 0.2561 - acc: 0.8947 - val_loss: 0.3303 - val_acc: 0.8767\n",
            "Epoch 84/100\n",
            "1168/1168 [==============================] - 0s 48us/step - loss: 0.2551 - acc: 0.8955 - val_loss: 0.3295 - val_acc: 0.8836\n",
            "Epoch 85/100\n",
            "1168/1168 [==============================] - 0s 46us/step - loss: 0.2541 - acc: 0.8955 - val_loss: 0.3291 - val_acc: 0.8836\n",
            "Epoch 86/100\n",
            "1168/1168 [==============================] - 0s 43us/step - loss: 0.2541 - acc: 0.8947 - val_loss: 0.3292 - val_acc: 0.8904\n",
            "Epoch 87/100\n",
            "1168/1168 [==============================] - 0s 44us/step - loss: 0.2526 - acc: 0.8973 - val_loss: 0.3283 - val_acc: 0.8904\n",
            "Epoch 88/100\n",
            "1168/1168 [==============================] - 0s 44us/step - loss: 0.2521 - acc: 0.8938 - val_loss: 0.3285 - val_acc: 0.8767\n",
            "Epoch 89/100\n",
            "1168/1168 [==============================] - 0s 49us/step - loss: 0.2515 - acc: 0.8964 - val_loss: 0.3281 - val_acc: 0.8904\n",
            "Epoch 90/100\n",
            "1168/1168 [==============================] - 0s 42us/step - loss: 0.2513 - acc: 0.8990 - val_loss: 0.3331 - val_acc: 0.8767\n",
            "Epoch 91/100\n",
            "1168/1168 [==============================] - 0s 45us/step - loss: 0.2531 - acc: 0.8930 - val_loss: 0.3279 - val_acc: 0.8904\n",
            "Epoch 92/100\n",
            "1168/1168 [==============================] - 0s 44us/step - loss: 0.2516 - acc: 0.8973 - val_loss: 0.3273 - val_acc: 0.8836\n",
            "Epoch 93/100\n",
            "1168/1168 [==============================] - 0s 46us/step - loss: 0.2502 - acc: 0.8981 - val_loss: 0.3269 - val_acc: 0.8904\n",
            "Epoch 94/100\n",
            "1168/1168 [==============================] - 0s 45us/step - loss: 0.2498 - acc: 0.8981 - val_loss: 0.3273 - val_acc: 0.8904\n",
            "Epoch 95/100\n",
            "1168/1168 [==============================] - 0s 44us/step - loss: 0.2483 - acc: 0.8981 - val_loss: 0.3272 - val_acc: 0.8767\n",
            "Epoch 96/100\n",
            "1168/1168 [==============================] - 0s 42us/step - loss: 0.2480 - acc: 0.8990 - val_loss: 0.3269 - val_acc: 0.8836\n",
            "Epoch 97/100\n",
            "1168/1168 [==============================] - 0s 47us/step - loss: 0.2499 - acc: 0.8955 - val_loss: 0.3262 - val_acc: 0.8904\n",
            "Epoch 98/100\n",
            "1168/1168 [==============================] - 0s 46us/step - loss: 0.2488 - acc: 0.8981 - val_loss: 0.3403 - val_acc: 0.8767\n",
            "Epoch 99/100\n",
            "1168/1168 [==============================] - 0s 42us/step - loss: 0.2499 - acc: 0.8964 - val_loss: 0.3254 - val_acc: 0.8904\n",
            "Epoch 100/100\n",
            "1168/1168 [==============================] - 0s 44us/step - loss: 0.2486 - acc: 0.8990 - val_loss: 0.3253 - val_acc: 0.8904\n"
          ],
          "name": "stdout"
        }
      ]
    },
    {
      "cell_type": "code",
      "metadata": {
        "id": "WECscKdu8iTM",
        "colab_type": "code",
        "colab": {
          "base_uri": "https://localhost:8080/",
          "height": 51
        },
        "outputId": "6c28260c-ff53-4fb8-eccc-42cf84e22039"
      },
      "source": [
        "#The reason why have the index 1 after the model.evaluate function is because\n",
        "#the function returns the loss as the first element and the accuracy as the \n",
        "#second element. To only output the accuracy, simply access the second element \n",
        "#(which is indexed by 1, since the first element starts its indexing from 0).\n",
        "model.evaluate(X_test, Y_test)[1]"
      ],
      "execution_count": 12,
      "outputs": [
        {
          "output_type": "stream",
          "text": [
            "146/146 [==============================] - 0s 118us/step\n"
          ],
          "name": "stdout"
        },
        {
          "output_type": "execute_result",
          "data": {
            "text/plain": [
              "0.9041095898575979"
            ]
          },
          "metadata": {
            "tags": []
          },
          "execution_count": 12
        }
      ]
    },
    {
      "cell_type": "code",
      "metadata": {
        "id": "0UgrrPrG8p5X",
        "colab_type": "code",
        "colab": {
          "base_uri": "https://localhost:8080/",
          "height": 122
        },
        "outputId": "b5cbf93c-cece-4537-a514-87753adb0ba1"
      },
      "source": [
        "#Make a prediction\n",
        "prediction = model.predict(X_test)\n",
        "prediction  = [1 if y>=0.85 else 0 for y in prediction] #Threshold\n",
        "print(prediction)\n",
        "print(Y_test)"
      ],
      "execution_count": 13,
      "outputs": [
        {
          "output_type": "stream",
          "text": [
            "[0, 0, 0, 0, 0, 1, 1, 0, 0, 0, 1, 0, 0, 1, 1, 1, 0, 1, 0, 0, 1, 0, 0, 0, 1, 0, 1, 0, 1, 0, 1, 0, 1, 0, 0, 0, 0, 0, 0, 1, 0, 1, 0, 1, 1, 1, 0, 1, 0, 0, 0, 0, 1, 0, 0, 1, 0, 1, 0, 0, 0, 1, 0, 0, 0, 0, 1, 0, 0, 0, 1, 0, 1, 0, 0, 0, 1, 0, 0, 1, 0, 0, 1, 1, 0, 1, 0, 0, 0, 0, 0, 0, 1, 0, 0, 0, 0, 0, 0, 0, 1, 0, 1, 0, 1, 1, 0, 1, 1, 0, 1, 0, 0, 1, 0, 1, 0, 0, 1, 0, 0, 0, 1, 1, 0, 1, 1, 0, 0, 0, 0, 0, 0, 1, 1, 1, 0, 0, 0, 1, 0, 0, 0, 0, 1, 0]\n",
            "[1 0 1 0 1 1 1 0 0 0 1 0 1 1 1 1 0 1 0 0 1 0 1 1 1 0 1 1 1 1 1 0 0 1 0 0 0\n",
            " 0 0 1 0 1 0 1 1 1 0 1 1 0 0 0 1 1 0 1 0 1 0 0 1 1 1 0 0 0 1 0 0 0 1 0 1 1\n",
            " 0 0 1 0 0 1 0 0 1 1 0 1 0 1 0 0 1 0 1 0 0 0 1 0 0 0 0 0 1 1 1 1 0 1 1 0 1\n",
            " 0 0 1 1 1 0 0 1 0 0 0 1 1 0 1 1 0 0 1 0 0 0 1 1 1 0 0 0 1 1 0 1 0 1 1]\n"
          ],
          "name": "stdout"
        }
      ]
    },
    {
      "cell_type": "code",
      "metadata": {
        "id": "rkWnwO9R8tK_",
        "colab_type": "code",
        "colab": {
          "base_uri": "https://localhost:8080/",
          "height": 295
        },
        "outputId": "16470dc1-a3ba-473d-d18f-5cfd43e2c67c"
      },
      "source": [
        "#visualize the training loss and the validation loss to see if the model is overfitting\n",
        "plt.plot(hist.history['loss'])\n",
        "plt.plot(hist.history['val_loss'])\n",
        "plt.title('Model loss')\n",
        "plt.ylabel('Loss')\n",
        "plt.xlabel('Epoch')\n",
        "plt.legend(['Train', 'Val'], loc='upper right')\n",
        "plt.show()"
      ],
      "execution_count": 14,
      "outputs": [
        {
          "output_type": "display_data",
          "data": {
            "image/png": "[encoded data removed]",
            "text/plain": [
              "<Figure size 432x288 with 1 Axes>"
            ]
          },
          "metadata": {
            "tags": []
          }
        }
      ]
    },
    {
      "cell_type": "code",
      "metadata": {
        "id": "y0C_c5rQ8wad",
        "colab_type": "code",
        "colab": {
          "base_uri": "https://localhost:8080/",
          "height": 295
        },
        "outputId": "b16e8ccf-293f-43d1-f4f3-0bb5a3555e38"
      },
      "source": [
        "#visualize the training accuracy and the validation accuracy to see if the model is overfitting\n",
        "plt.plot(hist.history['acc'])\n",
        "plt.plot(hist.history['val_acc'])\n",
        "plt.title('Model accuracy')\n",
        "plt.ylabel('Accuracy')\n",
        "plt.xlabel('Epoch')\n",
        "plt.legend(['Train', 'Val'], loc='lower right')\n",
        "plt.show()"
      ],
      "execution_count": 15,
      "outputs": [
        {
          "output_type": "display_data",
          "data": {
            "image/png": "[encoded data removed]",
            "text/plain": [
              "<Figure size 432x288 with 1 Axes>"
            ]
          },
          "metadata": {
            "tags": []
          }
        }
      ]
    }
  ]
}